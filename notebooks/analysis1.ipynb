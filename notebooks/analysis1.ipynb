{
 "cells": [
  {
   "cell_type": "markdown",
   "id": "f9bf23c9",
   "metadata": {
    "papermill": {
     "duration": 0.003621,
     "end_time": "2022-10-06T21:24:41.468125",
     "exception": false,
     "start_time": "2022-10-06T21:24:41.464504",
     "status": "completed"
    },
    "tags": []
   },
   "source": [
    "# Analysis 1"
   ]
  },
  {
   "cell_type": "code",
   "execution_count": null,
   "id": "cf7fa0db",
   "metadata": {
    "papermill": {
     "duration": 0.018263,
     "end_time": "2022-10-06T21:24:41.489719",
     "exception": false,
     "start_time": "2022-10-06T21:24:41.471456",
     "status": "completed"
    },
    "tags": []
   },
   "outputs": [],
   "source": [
    "# Dummy code\n",
    "1 + 2"
   ]
  },
  {
   "cell_type": "markdown",
   "id": "dfb4f5d5",
   "metadata": {
    "papermill": {
     "duration": 0.002948,
     "end_time": "2022-10-06T21:24:41.495789",
     "exception": false,
     "start_time": "2022-10-06T21:24:41.492841",
     "status": "completed"
    },
    "tags": []
   },
   "source": [
    "## Test image\n",
    "![This is the caption](../images/smile.png)"
   ]
  },
  {
   "cell_type": "markdown",
   "id": "b8783e22",
   "metadata": {
    "papermill": {
     "duration": 0.002685,
     "end_time": "2022-10-06T21:24:41.501231",
     "exception": false,
     "start_time": "2022-10-06T21:24:41.498546",
     "status": "completed"
    },
    "tags": []
   },
   "source": [
    "### h3\n",
    "#### h4\n",
    "##### h5\n",
    "###### h6"
   ]
  }
 ],
 "metadata": {
  "kernelspec": {
   "display_name": "Python 3.9.13 ('base')",
   "language": "python",
   "name": "python3"
  },
  "language_info": {
   "codemirror_mode": {
    "name": "ipython",
    "version": 3
   },
   "file_extension": ".py",
   "mimetype": "text/x-python",
   "name": "python",
   "nbconvert_exporter": "python",
   "pygments_lexer": "ipython3"
  },
  "papermill": {
   "default_parameters": {},
   "duration": 1.125668,
   "end_time": "2022-10-06T21:24:41.626953",
   "environment_variables": {},
   "exception": null,
   "input_path": "/mnt/d/git/master-thesis-template/notebooks/analysis1.ipynb",
   "output_path": "/mnt/d/git/master-thesis-template/notebooks/analysis1.ipynb",
   "parameters": {},
   "start_time": "2022-10-06T21:24:40.501285",
   "version": "2.3.4"
  }
 },
 "nbformat": 4,
 "nbformat_minor": 5
}
