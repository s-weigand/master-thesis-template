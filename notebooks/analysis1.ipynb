{
 "cells": [
  {
   "cell_type": "markdown",
   "id": "f9bf23c9",
   "metadata": {
    "papermill": {
     "duration": 0.003531,
     "end_time": "2022-10-08T17:53:35.288857",
     "exception": false,
     "start_time": "2022-10-08T17:53:35.285326",
     "status": "completed"
    },
    "tags": []
   },
   "source": [
    "# Analysis 1"
   ]
  },
  {
   "cell_type": "code",
   "execution_count": null,
   "id": "cf7fa0db",
   "metadata": {
    "papermill": {
     "duration": 0.016909,
     "end_time": "2022-10-08T17:53:35.308675",
     "exception": false,
     "start_time": "2022-10-08T17:53:35.291766",
     "status": "completed"
    },
    "tags": []
   },
   "outputs": [],
   "source": [
    "# Dummy code\n",
    "1 + 2"
   ]
  },
  {
   "cell_type": "markdown",
   "id": "dfb4f5d5",
   "metadata": {
    "papermill": {
     "duration": 0.003047,
     "end_time": "2022-10-08T17:53:35.314662",
     "exception": false,
     "start_time": "2022-10-08T17:53:35.311615",
     "status": "completed"
    },
    "tags": []
   },
   "source": [
    "## Test image\n",
    "![This is the caption](../images/smile.png)"
   ]
  },
  {
   "cell_type": "markdown",
   "id": "b8783e22",
   "metadata": {
    "papermill": {
     "duration": 0.003258,
     "end_time": "2022-10-08T17:53:35.320660",
     "exception": false,
     "start_time": "2022-10-08T17:53:35.317402",
     "status": "completed"
    },
    "tags": []
   },
   "source": [
    "### h3\n",
    "#### h4\n",
    "##### h5\n",
    "###### h6"
   ]
  }
 ],
 "metadata": {
  "kernelspec": {
   "display_name": "Python 3.10.6 ('master-thesis')",
   "language": "python",
   "name": "python3"
  },
  "language_info": {
   "codemirror_mode": {
    "name": "ipython",
    "version": 3
   },
   "file_extension": ".py",
   "mimetype": "text/x-python",
   "name": "python",
   "nbconvert_exporter": "python",
   "pygments_lexer": "ipython3"
  }
 },
 "nbformat": 4,
 "nbformat_minor": 5
}
