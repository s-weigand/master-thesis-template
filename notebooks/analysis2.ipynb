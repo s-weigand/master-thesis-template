{
 "cells": [
  {
   "cell_type": "markdown",
   "id": "3956d5a2",
   "metadata": {
    "papermill": {
     "duration": 0.003838,
     "end_time": "2022-10-06T21:24:42.744377",
     "exception": false,
     "start_time": "2022-10-06T21:24:42.740539",
     "status": "completed"
    },
    "tags": []
   },
   "source": [
    "# Analysis 2"
   ]
  },
  {
   "cell_type": "code",
   "execution_count": null,
   "id": "fdf379f6",
   "metadata": {
    "papermill": {
     "duration": 0.012504,
     "end_time": "2022-10-06T21:24:42.759967",
     "exception": false,
     "start_time": "2022-10-06T21:24:42.747463",
     "status": "completed"
    },
    "tags": []
   },
   "outputs": [],
   "source": [
    "# Syntax highlighting test\n",
    "def foo():\n",
    "    return 2 + 2"
   ]
  },
  {
   "cell_type": "code",
   "execution_count": null,
   "id": "7883ce10",
   "metadata": {
    "papermill": {
     "duration": 0.013461,
     "end_time": "2022-10-06T21:24:42.776238",
     "exception": false,
     "start_time": "2022-10-06T21:24:42.762777",
     "status": "completed"
    },
    "tags": []
   },
   "outputs": [],
   "source": [
    "foo()"
   ]
  }
 ],
 "metadata": {
  "kernelspec": {
   "display_name": "Python 3.10.4 64-bit",
   "language": "python",
   "name": "python3"
  },
  "language_info": {
   "codemirror_mode": {
    "name": "ipython",
    "version": 3
   },
   "file_extension": ".py",
   "mimetype": "text/x-python",
   "name": "python",
   "nbconvert_exporter": "python",
   "pygments_lexer": "ipython3"
  },
  "papermill": {
   "default_parameters": {},
   "duration": 1.038728,
   "end_time": "2022-10-06T21:24:42.894638",
   "environment_variables": {},
   "exception": null,
   "input_path": "/mnt/d/git/master-thesis-template/notebooks/analysis2.ipynb",
   "output_path": "/mnt/d/git/master-thesis-template/notebooks/analysis2.ipynb",
   "parameters": {},
   "start_time": "2022-10-06T21:24:41.855910",
   "version": "2.3.4"
  }
 },
 "nbformat": 4,
 "nbformat_minor": 5
}
