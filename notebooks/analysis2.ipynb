{
 "cells": [
  {
   "cell_type": "markdown",
   "id": "3956d5a2",
   "metadata": {
    "papermill": {
     "duration": 0.003024,
     "end_time": "2022-10-08T17:53:36.677206",
     "exception": false,
     "start_time": "2022-10-08T17:53:36.674182",
     "status": "completed"
    },
    "tags": []
   },
   "source": [
    "# Analysis 2"
   ]
  },
  {
   "cell_type": "code",
   "execution_count": null,
   "id": "fdf379f6",
   "metadata": {
    "papermill": {
     "duration": 0.011521,
     "end_time": "2022-10-08T17:53:36.692041",
     "exception": false,
     "start_time": "2022-10-08T17:53:36.680520",
     "status": "completed"
    },
    "tags": []
   },
   "outputs": [],
   "source": [
    "# Syntax highlighting test\n",
    "def foo():\n",
    "    return 2 + 2"
   ]
  },
  {
   "cell_type": "code",
   "execution_count": null,
   "id": "7883ce10",
   "metadata": {
    "papermill": {
     "duration": 0.012985,
     "end_time": "2022-10-08T17:53:36.707853",
     "exception": false,
     "start_time": "2022-10-08T17:53:36.694868",
     "status": "completed"
    },
    "tags": []
   },
   "outputs": [],
   "source": [
    "foo()"
   ]
  }
 ],
 "metadata": {
  "kernelspec": {
   "display_name": "Python 3.10.6 ('master-thesis')",
   "language": "python",
   "name": "python3"
  },
  "language_info": {
   "codemirror_mode": {
    "name": "ipython",
    "version": 3
   },
   "file_extension": ".py",
   "mimetype": "text/x-python",
   "name": "python",
   "nbconvert_exporter": "python",
   "pygments_lexer": "ipython3"
  }
 },
 "nbformat": 4,
 "nbformat_minor": 5
}
