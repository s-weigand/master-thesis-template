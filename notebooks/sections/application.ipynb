{
 "cells": [
  {
   "attachments": {},
   "cell_type": "markdown",
   "id": "90790ecd",
   "metadata": {
    "tags": []
   },
   "source": [
    "# Application"
   ]
  },
  {
   "attachments": {},
   "cell_type": "markdown",
   "id": "1791469b",
   "metadata": {
    "tags": []
   },
   "source": [
    "## Basic usage example"
   ]
  },
  {
   "attachments": {},
   "cell_type": "markdown",
   "id": "7a2573a0",
   "metadata": {
    "tags": []
   },
   "source": [
    "1+1"
   ]
  }
 ],
 "metadata": {
  "kernelspec": {
   "display_name": "master-thesis",
   "language": "python",
   "name": "python3"
  },
  "language_info": {
   "codemirror_mode": {
    "name": "ipython",
    "version": 3
   },
   "file_extension": ".py",
   "mimetype": "text/x-python",
   "name": "python",
   "nbconvert_exporter": "python",
   "pygments_lexer": "ipython3"
  }
 },
 "nbformat": 4,
 "nbformat_minor": 5
}
