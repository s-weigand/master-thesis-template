{
 "cells": [
  {
   "cell_type": "markdown",
   "id": "f9bf23c9",
   "metadata": {
    "tags": []
   },
   "source": [
    "# Analysis 1"
   ]
  },
  {
   "cell_type": "code",
   "execution_count": null,
   "id": "cf7fa0db",
   "metadata": {
    "tags": []
   },
   "outputs": [],
   "source": [
    "# Dummy code\n",
    "1 + 2"
   ]
  },
  {
   "cell_type": "markdown",
   "id": "dfb4f5d5",
   "metadata": {
    "tags": []
   },
   "source": [
    "## Test image\n",
    "![This is the caption](../images/smile.png)"
   ]
  },
  {
   "cell_type": "markdown",
   "id": "b8783e22",
   "metadata": {
    "tags": []
   },
   "source": [
    "### h3\n",
    "#### h4\n",
    "##### h5\n",
    "###### h6"
   ]
  }
 ],
 "metadata": {
  "kernelspec": {
   "display_name": "Python 3.10.6 ('master-thesis')",
   "language": "python",
   "name": "python3"
  },
  "language_info": {
   "codemirror_mode": {
    "name": "ipython",
    "version": 3
   },
   "file_extension": ".py",
   "mimetype": "text/x-python",
   "name": "python",
   "nbconvert_exporter": "python",
   "pygments_lexer": "ipython3"
  }
 },
 "nbformat": 4,
 "nbformat_minor": 5
}
