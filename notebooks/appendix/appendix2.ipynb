{
 "cells": [
  {
   "cell_type": "markdown",
   "id": "3956d5a2",
   "metadata": {
    "tags": []
   },
   "source": [
    "# Analysis 2"
   ]
  },
  {
   "cell_type": "code",
   "execution_count": null,
   "id": "fdf379f6",
   "metadata": {
    "tags": []
   },
   "outputs": [],
   "source": [
    "# Syntax highlighting test\n",
    "def foo():\n",
    "    return 2 + 2"
   ]
  },
  {
   "cell_type": "code",
   "execution_count": null,
   "id": "7883ce10",
   "metadata": {
    "tags": []
   },
   "outputs": [],
   "source": [
    "foo()"
   ]
  }
 ],
 "metadata": {
  "kernelspec": {
   "display_name": "Python 3.10.6 ('master-thesis')",
   "language": "python",
   "name": "python3"
  },
  "language_info": {
   "codemirror_mode": {
    "name": "ipython",
    "version": 3
   },
   "file_extension": ".py",
   "mimetype": "text/x-python",
   "name": "python",
   "nbconvert_exporter": "python",
   "pygments_lexer": "ipython3"
  }
 },
 "nbformat": 4,
 "nbformat_minor": 5
}
